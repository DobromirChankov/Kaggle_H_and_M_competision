{
 "cells": [
  {
   "cell_type": "markdown",
   "id": "3ff2026c",
   "metadata": {
    "papermill": {
     "duration": 0.015627,
     "end_time": "2022-03-25T19:23:50.177048",
     "exception": false,
     "start_time": "2022-03-25T19:23:50.161421",
     "status": "completed"
    },
    "tags": []
   },
   "source": [
    "### Libraries"
   ]
  },
  {
   "cell_type": "code",
   "execution_count": 1,
   "id": "0f6636d7",
   "metadata": {
    "_cell_guid": "b1076dfc-b9ad-4769-8c92-a6c4dae69d19",
    "_uuid": "8f2839f25d086af736a60e9eeb907d3b93b6e0e5",
    "execution": {
     "iopub.execute_input": "2022-03-25T19:23:50.210828Z",
     "iopub.status.busy": "2022-03-25T19:23:50.209385Z",
     "iopub.status.idle": "2022-03-25T19:23:51.389663Z",
     "shell.execute_reply": "2022-03-25T19:23:51.388890Z",
     "shell.execute_reply.started": "2022-03-25T19:08:56.365348Z"
    },
    "papermill": {
     "duration": 1.198218,
     "end_time": "2022-03-25T19:23:51.389829",
     "exception": false,
     "start_time": "2022-03-25T19:23:50.191611",
     "status": "completed"
    },
    "tags": []
   },
   "outputs": [],
   "source": [
    "import os\n",
    "import numpy as np\n",
    "import pandas as pd \n",
    "import datetime as dt\n",
    "import matplotlib.pyplot as plt;",
    "import seaborn as sns\n",
    "from collections import defaultdict\n"
   ]
  },
  {
   "attachments": {},
   "cell_type": "markdown",
   "id": "1846e387",
   "metadata": {},
   "source": [
    "# Solution for a *Kaggle's* competition\n",
    "\n",
    "#### [\"H&M Personalized Fashion Recommendations\"]('https://www.kaggle.com/competitions/h-and-m-personalized-fashion-recommendations')\n",
    "\n",
    "Autor: Dobromir Chankov\n",
    "\n",
    "30.4.2023\n",
    "\n",
    "_**Abstract**_\n",
    "\n",
    "Task is to deliver a working notebook, as much complete as possible project on the referenced competition following the guidelines of the data science development standard [CRISP-DM.]('https://en.wikipedia.org/wiki/Cross-industry_standard_process_for_data_mining')\n",
    "\n",
    "\n",
    "\n",
    "I choose an approach of a simple segmentation depending on how customers are buying:\n",
    "\n",
    " - trought internet (on-line) or\n",
    " - visiting the shop (on-place)\n",
    "\n",
    "My approach shows a system of algorithms for *partitioned validation* based on one-week retention time (between 4-11 days).\n",
    "\n",
    "The structure of this project is as following:\n",
    "\n",
    "1. *EDA*\n",
    "2. *Modeling*\n",
    "3. *Final prediction*\n",
    "4. *Conclusion*\n",
    "5. *References*\n",
    "\n",
    "The main idea is that the predictions for \"on-line\"customers are more precise then for those buying in shops.\n",
    "\n",
    "And the final results of the projects are clear proof for this:\n",
    "\n",
    "MAP@12(average precision) of a weekly hold-on validation is around:\n",
    " + 0.0187 for on-line and \n",
    " + 0.0306 for on-place customers.\n",
    "\n",
    "During my work I used and learned from great discussions and some notebooks shared in public.\n",
    "\n",
    "I'm really very thankful to all the authors.\n",
    "\n",
    "*NOTE: because of security reasons(internet interruption) I've downloaded the files from kaggle.com."
   ]
  },
  {
   "attachments": {},
   "cell_type": "markdown",
   "id": "8284eed9",
   "metadata": {
    "papermill": {
     "duration": 0.015568,
     "end_time": "2022-03-25T19:23:51.420133",
     "exception": false,
     "start_time": "2022-03-25T19:23:51.404565",
     "status": "completed"
    },
    "tags": []
   },
   "source": [
    "## 1. Exploratory Data Analysis(EDA)\n",
    "### 1.1. Data extraction"
   ]
  },
  {
   "cell_type": "code",
   "execution_count": 2,
   "id": "9a4cfea2",
   "metadata": {
    "_cell_guid": "b1076dfc-b9ad-4769-8c92-a6c4dae69d19",
    "_uuid": "8f2839f25d086af736a60e9eeb907d3b93b6e0e5",
    "execution": {
     "iopub.execute_input": "2022-03-25T19:23:51.456622Z",
     "iopub.status.busy": "2022-03-25T19:23:51.455950Z",
     "iopub.status.idle": "2022-03-25T19:24:03.057618Z",
     "shell.execute_reply": "2022-03-25T19:24:03.056846Z",
     "shell.execute_reply.started": "2022-03-25T19:08:56.409204Z"
    },
    "papermill": {
     "duration": 11.622123,
     "end_time": "2022-03-25T19:24:03.057776",
     "exception": false,
     "start_time": "2022-03-25T19:23:51.435653",
     "status": "completed"
    },
    "tags": []
   },
   "outputs": [],
   "source": [
    "# to check if file to open isn't a folder\n",
    "path = r\"data\\transactions_train.csv\\transactions_train.csv\"\n",
    "assert os.path.isfile(path)\n",
    "with open(path, \"r\") as f:\n",
    "    pass\n",
    "\n",
    "df = pd.read_csv(r'data\\transactions_train.csv\\transactions_train.csv')\n",
    "sub = pd.read_csv('data\\sample_submission.csv\\sample_submission.csv')\n",
    "\n",
    "# encode last 16 signs of customer ID to a decimal integer\n",
    "cid = pd.DataFrame(sub.customer_id.apply(lambda s: int(s[-16:], 16))) # , convert_dtype= False)) "
   ]
  },
  {
   "cell_type": "code",
   "execution_count": 3,
   "id": "ad11df76",
   "metadata": {},
   "outputs": [
    {
     "data": {
      "text/html": [
       "<div>\n",
       "<style scoped>\n",
       "    .dataframe tbody tr th:only-of-type {\n",
       "        vertical-align: middle;\n",
       "    }\n",
       "\n",
       "    .dataframe tbody tr th {\n",
       "        vertical-align: top;\n",
       "    }\n",
       "\n",
       "    .dataframe thead th {\n",
       "        text-align: right;\n",
       "    }\n",
       "</style>\n",
       "<table border=\"1\" class=\"dataframe\">\n",
       "  <thead>\n",
       "    <tr style=\"text-align: right;\">\n",
       "      <th></th>\n",
       "      <th>t_dat</th>\n",
       "      <th>customer_id</th>\n",
       "      <th>article_id</th>\n",
       "      <th>price</th>\n",
       "      <th>sales_channel_id</th>\n",
       "    </tr>\n",
       "  </thead>\n",
       "  <tbody>\n",
       "    <tr>\n",
       "      <th>0</th>\n",
       "      <td>2018-09-20</td>\n",
       "      <td>000058a12d5b43e67d225668fa1f8d618c13dc232df0ca...</td>\n",
       "      <td>663713001</td>\n",
       "      <td>0.050831</td>\n",
       "      <td>2</td>\n",
       "    </tr>\n",
       "    <tr>\n",
       "      <th>1</th>\n",
       "      <td>2018-09-20</td>\n",
       "      <td>000058a12d5b43e67d225668fa1f8d618c13dc232df0ca...</td>\n",
       "      <td>541518023</td>\n",
       "      <td>0.030492</td>\n",
       "      <td>2</td>\n",
       "    </tr>\n",
       "    <tr>\n",
       "      <th>2</th>\n",
       "      <td>2018-09-20</td>\n",
       "      <td>00007d2de826758b65a93dd24ce629ed66842531df6699...</td>\n",
       "      <td>505221004</td>\n",
       "      <td>0.015237</td>\n",
       "      <td>2</td>\n",
       "    </tr>\n",
       "    <tr>\n",
       "      <th>3</th>\n",
       "      <td>2018-09-20</td>\n",
       "      <td>00007d2de826758b65a93dd24ce629ed66842531df6699...</td>\n",
       "      <td>685687003</td>\n",
       "      <td>0.016932</td>\n",
       "      <td>2</td>\n",
       "    </tr>\n",
       "    <tr>\n",
       "      <th>4</th>\n",
       "      <td>2018-09-20</td>\n",
       "      <td>00007d2de826758b65a93dd24ce629ed66842531df6699...</td>\n",
       "      <td>685687004</td>\n",
       "      <td>0.016932</td>\n",
       "      <td>2</td>\n",
       "    </tr>\n",
       "    <tr>\n",
       "      <th>...</th>\n",
       "      <td>...</td>\n",
       "      <td>...</td>\n",
       "      <td>...</td>\n",
       "      <td>...</td>\n",
       "      <td>...</td>\n",
       "    </tr>\n",
       "    <tr>\n",
       "      <th>31788319</th>\n",
       "      <td>2020-09-22</td>\n",
       "      <td>fff2282977442e327b45d8c89afde25617d00124d0f999...</td>\n",
       "      <td>929511001</td>\n",
       "      <td>0.059305</td>\n",
       "      <td>2</td>\n",
       "    </tr>\n",
       "    <tr>\n",
       "      <th>31788320</th>\n",
       "      <td>2020-09-22</td>\n",
       "      <td>fff2282977442e327b45d8c89afde25617d00124d0f999...</td>\n",
       "      <td>891322004</td>\n",
       "      <td>0.042356</td>\n",
       "      <td>2</td>\n",
       "    </tr>\n",
       "    <tr>\n",
       "      <th>31788321</th>\n",
       "      <td>2020-09-22</td>\n",
       "      <td>fff380805474b287b05cb2a7507b9a013482f7dd0bce0e...</td>\n",
       "      <td>918325001</td>\n",
       "      <td>0.043203</td>\n",
       "      <td>1</td>\n",
       "    </tr>\n",
       "    <tr>\n",
       "      <th>31788322</th>\n",
       "      <td>2020-09-22</td>\n",
       "      <td>fff4d3a8b1f3b60af93e78c30a7cb4cf75edaf2590d3e5...</td>\n",
       "      <td>833459002</td>\n",
       "      <td>0.006763</td>\n",
       "      <td>1</td>\n",
       "    </tr>\n",
       "    <tr>\n",
       "      <th>31788323</th>\n",
       "      <td>2020-09-22</td>\n",
       "      <td>fffef3b6b73545df065b521e19f64bf6fe93bfd450ab20...</td>\n",
       "      <td>898573003</td>\n",
       "      <td>0.033881</td>\n",
       "      <td>2</td>\n",
       "    </tr>\n",
       "  </tbody>\n",
       "</table>\n",
       "<p>31788324 rows × 5 columns</p>\n",
       "</div>"
      ],
      "text/plain": [
       "               t_dat                                        customer_id  \\\n",
       "0         2018-09-20  000058a12d5b43e67d225668fa1f8d618c13dc232df0ca...   \n",
       "1         2018-09-20  000058a12d5b43e67d225668fa1f8d618c13dc232df0ca...   \n",
       "2         2018-09-20  00007d2de826758b65a93dd24ce629ed66842531df6699...   \n",
       "3         2018-09-20  00007d2de826758b65a93dd24ce629ed66842531df6699...   \n",
       "4         2018-09-20  00007d2de826758b65a93dd24ce629ed66842531df6699...   \n",
       "...              ...                                                ...   \n",
       "31788319  2020-09-22  fff2282977442e327b45d8c89afde25617d00124d0f999...   \n",
       "31788320  2020-09-22  fff2282977442e327b45d8c89afde25617d00124d0f999...   \n",
       "31788321  2020-09-22  fff380805474b287b05cb2a7507b9a013482f7dd0bce0e...   \n",
       "31788322  2020-09-22  fff4d3a8b1f3b60af93e78c30a7cb4cf75edaf2590d3e5...   \n",
       "31788323  2020-09-22  fffef3b6b73545df065b521e19f64bf6fe93bfd450ab20...   \n",
       "\n",
       "          article_id     price  sales_channel_id  \n",
       "0          663713001  0.050831                 2  \n",
       "1          541518023  0.030492                 2  \n",
       "2          505221004  0.015237                 2  \n",
       "3          685687003  0.016932                 2  \n",
       "4          685687004  0.016932                 2  \n",
       "...              ...       ...               ...  \n",
       "31788319   929511001  0.059305                 2  \n",
       "31788320   891322004  0.042356                 2  \n",
       "31788321   918325001  0.043203                 1  \n",
       "31788322   833459002  0.006763                 1  \n",
       "31788323   898573003  0.033881                 2  \n",
       "\n",
       "[31788324 rows x 5 columns]"
      ]
     },
     "execution_count": 3,
     "metadata": {},
     "output_type": "execute_result"
    }
   ],
   "source": [
    "df # 31788324 rows × 5 columns"
   ]
  },
  {
   "cell_type": "code",
   "execution_count": 4,
   "id": "53a72bbf",
   "metadata": {},
   "outputs": [
    {
     "data": {
      "text/plain": [
       "1362281"
      ]
     },
     "execution_count": 4,
     "metadata": {},
     "output_type": "execute_result"
    }
   ],
   "source": [
    "df.customer_id.value_counts().size"
   ]
  },
  {
   "cell_type": "code",
   "execution_count": 5,
   "metadata": {},
   "outputs": [],
   "source": [
    "customers = pd.read_csv(r'data\\customers.csv\\customers.csv')"
   ]
  },
  {
   "cell_type": "code",
   "execution_count": 6,
   "id": "e71626af",
   "metadata": {},
   "outputs": [
    {
     "data": {
      "text/html": [
       "<div>\n",
       "<style scoped>\n",
       "    .dataframe tbody tr th:only-of-type {\n",
       "        vertical-align: middle;\n",
       "    }\n",
       "\n",
       "    .dataframe tbody tr th {\n",
       "        vertical-align: top;\n",
       "    }\n",
       "\n",
       "    .dataframe thead th {\n",
       "        text-align: right;\n",
       "    }\n",
       "</style>\n",
       "<table border=\"1\" class=\"dataframe\">\n",
       "  <thead>\n",
       "    <tr style=\"text-align: right;\">\n",
       "      <th></th>\n",
       "      <th>customer_id</th>\n",
       "      <th>FN</th>\n",
       "      <th>Active</th>\n",
       "      <th>club_member_status</th>\n",
       "      <th>fashion_news_frequency</th>\n",
       "      <th>age</th>\n",
       "      <th>postal_code</th>\n",
       "    </tr>\n",
       "  </thead>\n",
       "  <tbody>\n",
       "    <tr>\n",
       "      <th>0</th>\n",
       "      <td>00000dbacae5abe5e23885899a1fa44253a17956c6d1c3...</td>\n",
       "      <td>NaN</td>\n",
       "      <td>NaN</td>\n",
       "      <td>ACTIVE</td>\n",
       "      <td>NONE</td>\n",
       "      <td>49.0</td>\n",
       "      <td>52043ee2162cf5aa7ee79974281641c6f11a68d276429a...</td>\n",
       "    </tr>\n",
       "    <tr>\n",
       "      <th>1</th>\n",
       "      <td>0000423b00ade91418cceaf3b26c6af3dd342b51fd051e...</td>\n",
       "      <td>NaN</td>\n",
       "      <td>NaN</td>\n",
       "      <td>ACTIVE</td>\n",
       "      <td>NONE</td>\n",
       "      <td>25.0</td>\n",
       "      <td>2973abc54daa8a5f8ccfe9362140c63247c5eee03f1d93...</td>\n",
       "    </tr>\n",
       "    <tr>\n",
       "      <th>2</th>\n",
       "      <td>000058a12d5b43e67d225668fa1f8d618c13dc232df0ca...</td>\n",
       "      <td>NaN</td>\n",
       "      <td>NaN</td>\n",
       "      <td>ACTIVE</td>\n",
       "      <td>NONE</td>\n",
       "      <td>24.0</td>\n",
       "      <td>64f17e6a330a85798e4998f62d0930d14db8db1c054af6...</td>\n",
       "    </tr>\n",
       "  </tbody>\n",
       "</table>\n",
       "</div>"
      ],
      "text/plain": [
       "                                         customer_id  FN  Active  \\\n",
       "0  00000dbacae5abe5e23885899a1fa44253a17956c6d1c3... NaN     NaN   \n",
       "1  0000423b00ade91418cceaf3b26c6af3dd342b51fd051e... NaN     NaN   \n",
       "2  000058a12d5b43e67d225668fa1f8d618c13dc232df0ca... NaN     NaN   \n",
       "\n",
       "  club_member_status fashion_news_frequency   age  \\\n",
       "0             ACTIVE                   NONE  49.0   \n",
       "1             ACTIVE                   NONE  25.0   \n",
       "2             ACTIVE                   NONE  24.0   \n",
       "\n",
       "                                         postal_code  \n",
       "0  52043ee2162cf5aa7ee79974281641c6f11a68d276429a...  \n",
       "1  2973abc54daa8a5f8ccfe9362140c63247c5eee03f1d93...  \n",
       "2  64f17e6a330a85798e4998f62d0930d14db8db1c054af6...  "
      ]
     },
     "execution_count": 6,
     "metadata": {},
     "output_type": "execute_result"
    }
   ],
   "source": [
    "customers.shape # 1371980 rows × 7 columns\n",
    "customers.head(3)"
   ]
  },
  {
   "cell_type": "code",
   "execution_count": 7,
   "id": "9e341451",
   "metadata": {},
   "outputs": [
    {
     "data": {
      "text/plain": [
       "1371980"
      ]
     },
     "execution_count": 7,
     "metadata": {},
     "output_type": "execute_result"
    }
   ],
   "source": [
    "customers.customer_id.nunique()"
   ]
  },
  {
   "cell_type": "code",
   "execution_count": 8,
   "id": "584e025b",
   "metadata": {},
   "outputs": [
    {
     "data": {
      "image/png": "[encoded data removed]",
      "text/plain": [
       "<Figure size 640x480 with 1 Axes>"
      ]
     },
     "metadata": {},
     "output_type": "display_data"
    }
   ],
   "source": [
    "# Plot of active vs. pasive customenrs \n",
    "plt.pie( [1362281, 9699], labels=[ 'active\\n 99.3%', 'pasive \\n 0,7%'], colors=['lightgreen','red'],explode= [.07, .05], shadow= True)\n",
    "plt.title('Active and pasive customers for the period\\n(total customers: 1 371 980)')\n",
    "plt.show()"
   ]
  },
  {
   "attachments": {},
   "cell_type": "markdown",
   "id": "bbd5f9cb",
   "metadata": {},
   "source": [
    "The count of **total customers** is 1371980.\n",
    "\n",
    "The count of *active customers* (who purcaised during the period) is 1362281.\n",
    "\n",
    "The difference are *pasive customers* (who didn't purcaise during the period): 9699."
   ]
  },
  {
   "attachments": {},
   "cell_type": "markdown",
   "id": "0fc00898",
   "metadata": {
    "papermill": {
     "duration": 0.01436,
     "end_time": "2022-03-25T19:24:03.086972",
     "exception": false,
     "start_time": "2022-03-25T19:24:03.072612",
     "status": "completed"
    },
    "tags": []
   },
   "source": [
    "### 1.2. Segmentation in Groups\n",
    "\n",
    "I define 2 basic types of customers depending on their way of purchase:\n",
    " - 1.0 -> on site (in a shop)\n",
    " - 2.0 -> on line (via internet)"
   ]
  },
  {
   "cell_type": "code",
   "execution_count": 9,
   "id": "8c896e2a",
   "metadata": {
    "_cell_guid": "b1076dfc-b9ad-4769-8c92-a6c4dae69d19",
    "_uuid": "8f2839f25d086af736a60e9eeb907d3b93b6e0e5",
    "execution": {
     "iopub.execute_input": "2022-03-25T19:24:03.122554Z",
     "iopub.status.busy": "2022-03-25T19:24:03.121738Z",
     "iopub.status.idle": "2022-03-25T19:24:06.906373Z",
     "shell.execute_reply": "2022-03-25T19:24:06.905814Z",
     "shell.execute_reply.started": "2022-03-25T19:09:04.146619Z"
    },
    "papermill": {
     "duration": 3.804987,
     "end_time": "2022-03-25T19:24:06.906539",
     "exception": false,
     "start_time": "2022-03-25T19:24:03.101552",
     "status": "completed"
    },
    "tags": []
   },
   "outputs": [],
   "source": [
    "group = df.groupby('customer_id').sales_channel_id.mean().round().reset_index()"
   ]
  },
  {
   "cell_type": "code",
   "execution_count": 10,
   "id": "61846ee2",
   "metadata": {},
   "outputs": [],
   "source": [
    "# Cast 'customer_id' from object to int\n",
    "group.customer_id = group.customer_id.apply(lambda s: int(s[-16:], 16)) "
   ]
  },
  {
   "cell_type": "code",
   "execution_count": 11,
   "metadata": {},
   "outputs": [
    {
     "data": {
      "text/html": [
       "<div>\n",
       "<style scoped>\n",
       "    .dataframe tbody tr th:only-of-type {\n",
       "        vertical-align: middle;\n",
       "    }\n",
       "\n",
       "    .dataframe tbody tr th {\n",
       "        vertical-align: top;\n",
       "    }\n",
       "\n",
       "    .dataframe thead th {\n",
       "        text-align: right;\n",
       "    }\n",
       "</style>\n",
       "<table border=\"1\" class=\"dataframe\">\n",
       "  <thead>\n",
       "    <tr style=\"text-align: right;\">\n",
       "      <th></th>\n",
       "      <th>customer_id</th>\n",
       "      <th>sales_channel_id</th>\n",
       "    </tr>\n",
       "  </thead>\n",
       "  <tbody>\n",
       "    <tr>\n",
       "      <th>0</th>\n",
       "      <td>6883939031699146327</td>\n",
       "      <td>2.0</td>\n",
       "    </tr>\n",
       "    <tr>\n",
       "      <th>1</th>\n",
       "      <td>11246327431398957306</td>\n",
       "      <td>2.0</td>\n",
       "    </tr>\n",
       "    <tr>\n",
       "      <th>2</th>\n",
       "      <td>18439897732908966680</td>\n",
       "      <td>2.0</td>\n",
       "    </tr>\n",
       "    <tr>\n",
       "      <th>3</th>\n",
       "      <td>18352672461570950206</td>\n",
       "      <td>2.0</td>\n",
       "    </tr>\n",
       "    <tr>\n",
       "      <th>4</th>\n",
       "      <td>18162778555210377306</td>\n",
       "      <td>2.0</td>\n",
       "    </tr>\n",
       "    <tr>\n",
       "      <th>...</th>\n",
       "      <td>...</td>\n",
       "      <td>...</td>\n",
       "    </tr>\n",
       "    <tr>\n",
       "      <th>1371975</th>\n",
       "      <td>7551062398649767985</td>\n",
       "      <td>2.0</td>\n",
       "    </tr>\n",
       "    <tr>\n",
       "      <th>1371976</th>\n",
       "      <td>9305341941720086711</td>\n",
       "      <td>2.0</td>\n",
       "    </tr>\n",
       "    <tr>\n",
       "      <th>1371977</th>\n",
       "      <td>10160427316885688932</td>\n",
       "      <td>2.0</td>\n",
       "    </tr>\n",
       "    <tr>\n",
       "      <th>1371978</th>\n",
       "      <td>2551401172826382186</td>\n",
       "      <td>2.0</td>\n",
       "    </tr>\n",
       "    <tr>\n",
       "      <th>1371979</th>\n",
       "      <td>16929951892735599169</td>\n",
       "      <td>2.0</td>\n",
       "    </tr>\n",
       "  </tbody>\n",
       "</table>\n",
       "<p>1371980 rows × 2 columns</p>\n",
       "</div>"
      ],
      "text/plain": [
       "                  customer_id  sales_channel_id\n",
       "0         6883939031699146327               2.0\n",
       "1        11246327431398957306               2.0\n",
       "2        18439897732908966680               2.0\n",
       "3        18352672461570950206               2.0\n",
       "4        18162778555210377306               2.0\n",
       "...                       ...               ...\n",
       "1371975   7551062398649767985               2.0\n",
       "1371976   9305341941720086711               2.0\n",
       "1371977  10160427316885688932               2.0\n",
       "1371978   2551401172826382186               2.0\n",
       "1371979  16929951892735599169               2.0\n",
       "\n",
       "[1371980 rows x 2 columns]"
      ]
     },
     "execution_count": 11,
     "metadata": {},
     "output_type": "execute_result"
    }
   ],
   "source": [
    "# Marging with cid\n",
    "group = group.merge(cid, on='customer_id', how='right')# .rename(columns={'sales_channel_id':'group'})\n",
    "\n",
    "group"
   ]
  },
  {
   "attachments": {},
   "cell_type": "markdown",
   "id": "1032d518",
   "metadata": {},
   "source": [
    "In \"group\" we have now empty cells because some customers were _inactive_ during the period (didn't make any purchase).\n",
    "\n",
    "We check how many they are and dicide to add  _inactive customers_ to type 1.0 -> buying mainly \"in a shop\":"
   ]
  },
  {
   "cell_type": "code",
   "execution_count": 12,
   "id": "ec52e32d",
   "metadata": {},
   "outputs": [
    {
     "data": {
      "text/plain": [
       "2.0    928128\n",
       "1.0    434153\n",
       "NaN      9699\n",
       "Name: sales_channel_id, dtype: int64"
      ]
     },
     "execution_count": 12,
     "metadata": {},
     "output_type": "execute_result"
    }
   ],
   "source": [
    "group.sales_channel_id.value_counts(dropna= False)"
   ]
  },
  {
   "cell_type": "code",
   "execution_count": 13,
   "id": "a85096e3",
   "metadata": {},
   "outputs": [
    {
     "data": {
      "text/plain": [
       "numpy.int64"
      ]
     },
     "execution_count": 13,
     "metadata": {},
     "output_type": "execute_result"
    }
   ],
   "source": [
    "group.sales_channel_id.value_counts(dropna= False)[np.nan]\n",
    "type(group.sales_channel_id.value_counts(dropna= False)[np.nan])"
   ]
  },
  {
   "cell_type": "code",
   "execution_count": 14,
   "id": "2b76dbdb",
   "metadata": {},
   "outputs": [
    {
     "data": {
      "image/png": "[encoded data removed]",
      "text/plain": [
       "<Figure size 640x480 with 1 Axes>"
      ]
     },
     "metadata": {},
     "output_type": "display_data"
    }
   ],
   "source": [
    "# Plot of customenrs by distribution channels\n",
    "# Share in % (percentage) per segment:\n",
    "perc_on_line = round(group.sales_channel_id.value_counts(normalize= True, dropna= False)[2] * 100, 1)\n",
    "perc_in_shop =round(group.sales_channel_id.value_counts(normalize= True, dropna= False)[1]* 100, 1)\n",
    "perc_pasive = round(group.sales_channel_id.value_counts(normalize= True, dropna= False)[np.nan]* 100, 1)\n",
    "plt.pie( \n",
    "        [group.sales_channel_id.value_counts(dropna= False)[2],\n",
    "         group.sales_channel_id.value_counts(dropna= False)[1], \n",
    "         group.sales_channel_id.value_counts(dropna= False)[np.nan]], \n",
    "        labels=[ f'on-line\\n {perc_on_line}%', f'in a shop\\n {perc_in_shop}%', f'pasive {perc_pasive}%'], \n",
    "        colors=['orange', 'lightgreen', 'red'],\n",
    "        explode= [0.01, .05, .075], \n",
    "        shadow= True,\n",
    "        labeldistance= .475\n",
    "        )\n",
    "plt.title('Customers by segments')\n",
    "\n",
    "plt.show()"
   ]
  },
  {
   "attachments": {},
   "cell_type": "markdown",
   "id": "a5f9a3b5",
   "metadata": {},
   "source": [
    "The *pasive customers* number isn't significant and we decide to unite it with \"in-a-shop\" customers."
   ]
  },
  {
   "cell_type": "code",
   "execution_count": 15,
   "id": "55d92a41",
   "metadata": {},
   "outputs": [],
   "source": [
    "grouping = group.sales_channel_id.fillna(1.0)"
   ]
  },
  {
   "cell_type": "code",
   "execution_count": 16,
   "id": "bfbbc0b5",
   "metadata": {},
   "outputs": [
    {
     "data": {
      "text/plain": [
       "2.0    928128\n",
       "1.0    443852\n",
       "Name: sales_channel_id, dtype: int64"
      ]
     },
     "execution_count": 16,
     "metadata": {},
     "output_type": "execute_result"
    }
   ],
   "source": [
    "grouping.value_counts()"
   ]
  },
  {
   "attachments": {},
   "cell_type": "markdown",
   "id": "2c0f4db2",
   "metadata": {
    "papermill": {
     "duration": 0.014209,
     "end_time": "2022-03-25T19:24:06.935759",
     "exception": false,
     "start_time": "2022-03-25T19:24:06.921550",
     "status": "completed"
    },
    "tags": []
   },
   "source": [
    "### 1.3. Check and fitting \"df\" with proper data "
   ]
  },
  {
   "cell_type": "code",
   "execution_count": 17,
   "id": "a4a8aaac",
   "metadata": {},
   "outputs": [],
   "source": [
    "df['t_dat'] = pd.to_datetime(df['t_dat'])"
   ]
  },
  {
   "cell_type": "code",
   "execution_count": 18,
   "id": "f2a657ad",
   "metadata": {},
   "outputs": [
    {
     "data": {
      "text/plain": [
       "t_dat               datetime64[ns]\n",
       "customer_id                 object\n",
       "article_id                   int64\n",
       "price                      float64\n",
       "sales_channel_id             int64\n",
       "dtype: object"
      ]
     },
     "execution_count": 18,
     "metadata": {},
     "output_type": "execute_result"
    }
   ],
   "source": [
    "df.dtypes"
   ]
  },
  {
   "cell_type": "code",
   "execution_count": 19,
   "id": "900941d3",
   "metadata": {},
   "outputs": [],
   "source": [
    "# Insert a column to refer the weeks\n",
    "df['week'] = df['t_dat'].dt.isocalendar().week"
   ]
  },
  {
   "cell_type": "code",
   "execution_count": 20,
   "id": "47d2e8ac",
   "metadata": {},
   "outputs": [],
   "source": [
    "# Convert 'customer_id' from str as int \n",
    "\n",
    "df['customer_id'] = df['customer_id'].apply(lambda s: int(s[-16:], 16))"
   ]
  },
  {
   "cell_type": "code",
   "execution_count": 21,
   "id": "7149c355",
   "metadata": {},
   "outputs": [],
   "source": [
    "# Initializing a new column\n",
    "df['week_count'] = 0\n",
    "\n",
    "# Counting weeks from zero.\n",
    "start_date = df['t_dat'].iloc[0]\n",
    "df['week_count'] = ((df['t_dat'] - start_date).dt.days // 7).astype(int)\n"
   ]
  },
  {
   "cell_type": "code",
   "execution_count": 22,
   "id": "20ffa6ba",
   "metadata": {},
   "outputs": [
    {
     "data": {
      "text/html": [
       "<div>\n",
       "<style scoped>\n",
       "    .dataframe tbody tr th:only-of-type {\n",
       "        vertical-align: middle;\n",
       "    }\n",
       "\n",
       "    .dataframe tbody tr th {\n",
       "        vertical-align: top;\n",
       "    }\n",
       "\n",
       "    .dataframe thead th {\n",
       "        text-align: right;\n",
       "    }\n",
       "</style>\n",
       "<table border=\"1\" class=\"dataframe\">\n",
       "  <thead>\n",
       "    <tr style=\"text-align: right;\">\n",
       "      <th></th>\n",
       "      <th>t_dat</th>\n",
       "      <th>customer_id</th>\n",
       "      <th>article_id</th>\n",
       "      <th>price</th>\n",
       "      <th>sales_channel_id</th>\n",
       "      <th>week</th>\n",
       "      <th>week_count</th>\n",
       "    </tr>\n",
       "  </thead>\n",
       "  <tbody>\n",
       "    <tr>\n",
       "      <th>0</th>\n",
       "      <td>2018-09-20</td>\n",
       "      <td>18439897732908966680</td>\n",
       "      <td>663713001</td>\n",
       "      <td>0.050831</td>\n",
       "      <td>2</td>\n",
       "      <td>38</td>\n",
       "      <td>0</td>\n",
       "    </tr>\n",
       "    <tr>\n",
       "      <th>1</th>\n",
       "      <td>2018-09-20</td>\n",
       "      <td>18439897732908966680</td>\n",
       "      <td>541518023</td>\n",
       "      <td>0.030492</td>\n",
       "      <td>2</td>\n",
       "      <td>38</td>\n",
       "      <td>0</td>\n",
       "    </tr>\n",
       "    <tr>\n",
       "      <th>2</th>\n",
       "      <td>2018-09-20</td>\n",
       "      <td>10112112306570742978</td>\n",
       "      <td>505221004</td>\n",
       "      <td>0.015237</td>\n",
       "      <td>2</td>\n",
       "      <td>38</td>\n",
       "      <td>0</td>\n",
       "    </tr>\n",
       "    <tr>\n",
       "      <th>3</th>\n",
       "      <td>2018-09-20</td>\n",
       "      <td>10112112306570742978</td>\n",
       "      <td>685687003</td>\n",
       "      <td>0.016932</td>\n",
       "      <td>2</td>\n",
       "      <td>38</td>\n",
       "      <td>0</td>\n",
       "    </tr>\n",
       "    <tr>\n",
       "      <th>4</th>\n",
       "      <td>2018-09-20</td>\n",
       "      <td>10112112306570742978</td>\n",
       "      <td>685687004</td>\n",
       "      <td>0.016932</td>\n",
       "      <td>2</td>\n",
       "      <td>38</td>\n",
       "      <td>0</td>\n",
       "    </tr>\n",
       "    <tr>\n",
       "      <th>...</th>\n",
       "      <td>...</td>\n",
       "      <td>...</td>\n",
       "      <td>...</td>\n",
       "      <td>...</td>\n",
       "      <td>...</td>\n",
       "      <td>...</td>\n",
       "      <td>...</td>\n",
       "    </tr>\n",
       "    <tr>\n",
       "      <th>31788319</th>\n",
       "      <td>2020-09-22</td>\n",
       "      <td>4685485978980270934</td>\n",
       "      <td>929511001</td>\n",
       "      <td>0.059305</td>\n",
       "      <td>2</td>\n",
       "      <td>39</td>\n",
       "      <td>104</td>\n",
       "    </tr>\n",
       "    <tr>\n",
       "      <th>31788320</th>\n",
       "      <td>2020-09-22</td>\n",
       "      <td>4685485978980270934</td>\n",
       "      <td>891322004</td>\n",
       "      <td>0.042356</td>\n",
       "      <td>2</td>\n",
       "      <td>39</td>\n",
       "      <td>104</td>\n",
       "    </tr>\n",
       "    <tr>\n",
       "      <th>31788321</th>\n",
       "      <td>2020-09-22</td>\n",
       "      <td>3959348689921271969</td>\n",
       "      <td>918325001</td>\n",
       "      <td>0.043203</td>\n",
       "      <td>1</td>\n",
       "      <td>39</td>\n",
       "      <td>104</td>\n",
       "    </tr>\n",
       "    <tr>\n",
       "      <th>31788322</th>\n",
       "      <td>2020-09-22</td>\n",
       "      <td>9807404028332039951</td>\n",
       "      <td>833459002</td>\n",
       "      <td>0.006763</td>\n",
       "      <td>1</td>\n",
       "      <td>39</td>\n",
       "      <td>104</td>\n",
       "    </tr>\n",
       "    <tr>\n",
       "      <th>31788323</th>\n",
       "      <td>2020-09-22</td>\n",
       "      <td>3235222691137941515</td>\n",
       "      <td>898573003</td>\n",
       "      <td>0.033881</td>\n",
       "      <td>2</td>\n",
       "      <td>39</td>\n",
       "      <td>104</td>\n",
       "    </tr>\n",
       "  </tbody>\n",
       "</table>\n",
       "<p>31788324 rows × 7 columns</p>\n",
       "</div>"
      ],
      "text/plain": [
       "              t_dat           customer_id  article_id     price  \\\n",
       "0        2018-09-20  18439897732908966680   663713001  0.050831   \n",
       "1        2018-09-20  18439897732908966680   541518023  0.030492   \n",
       "2        2018-09-20  10112112306570742978   505221004  0.015237   \n",
       "3        2018-09-20  10112112306570742978   685687003  0.016932   \n",
       "4        2018-09-20  10112112306570742978   685687004  0.016932   \n",
       "...             ...                   ...         ...       ...   \n",
       "31788319 2020-09-22   4685485978980270934   929511001  0.059305   \n",
       "31788320 2020-09-22   4685485978980270934   891322004  0.042356   \n",
       "31788321 2020-09-22   3959348689921271969   918325001  0.043203   \n",
       "31788322 2020-09-22   9807404028332039951   833459002  0.006763   \n",
       "31788323 2020-09-22   3235222691137941515   898573003  0.033881   \n",
       "\n",
       "          sales_channel_id  week  week_count  \n",
       "0                        2    38           0  \n",
       "1                        2    38           0  \n",
       "2                        2    38           0  \n",
       "3                        2    38           0  \n",
       "4                        2    38           0  \n",
       "...                    ...   ...         ...  \n",
       "31788319                 2    39         104  \n",
       "31788320                 2    39         104  \n",
       "31788321                 1    39         104  \n",
       "31788322                 1    39         104  \n",
       "31788323                 2    39         104  \n",
       "\n",
       "[31788324 rows x 7 columns]"
      ]
     },
     "execution_count": 22,
     "metadata": {},
     "output_type": "execute_result"
    }
   ],
   "source": [
    "df"
   ]
  },
  {
   "cell_type": "code",
   "execution_count": 23,
   "id": "1fc4bcf0",
   "metadata": {},
   "outputs": [],
   "source": [
    "# We aim to count the weeks only during the period.\n",
    "# So we drop the 'week'feature avoidig some duality.\n",
    "\n",
    "df = df.drop(columns=['week'])"
   ]
  },
  {
   "attachments": {},
   "cell_type": "markdown",
   "id": "a2f2dc7f",
   "metadata": {},
   "source": [
    "Finaly it seems everething to look nice. :)\n",
    "\n",
    "## 2.Modeling\n",
    "### 2.1 with One-Week retention (4-11 days)\n",
    "\n",
    "Some preparations first:"
   ]
  },
  {
   "cell_type": "code",
   "execution_count": 24,
   "id": "592a9803",
   "metadata": {},
   "outputs": [],
   "source": [
    "def iter_to_str(iterable):\n",
    "    ''' The function collects all elements of input, \n",
    "    then it joins with white space and puts a zero at the begin of each of them.\n",
    "     \n",
    "    Input  : iterable object\n",
    "    Return : str (in pd.Series) \n",
    "    '''\n",
    "    return \" \".join(map(lambda x: str(0) + str(x), iterable))"
   ]
  },
  {
   "cell_type": "code",
   "execution_count": 25,
   "id": "623e6182",
   "metadata": {
    "execution": {
     "iopub.execute_input": "2022-03-25T19:24:06.967817Z",
     "iopub.status.busy": "2022-03-25T19:24:06.967224Z",
     "iopub.status.idle": "2022-03-25T19:24:12.159738Z",
     "shell.execute_reply": "2022-03-25T19:24:12.159231Z",
     "shell.execute_reply.started": "2022-03-25T19:09:07.565811Z"
    },
    "papermill": {
     "duration": 5.209567,
     "end_time": "2022-03-25T19:24:12.159893",
     "exception": false,
     "start_time": "2022-03-25T19:24:06.950326",
     "status": "completed"
    },
    "tags": []
   },
   "outputs": [],
   "source": [
    "val_week = 104\n",
    "# id of week to be used in a validation; \n",
    "# remeber to set 'val_week' 104 if create a submission for 'kaggle'\n",
    "\n",
    "val = df.loc[df.week_count == val_week].groupby('customer_id', group_keys=True).article_id.apply(iter_to_str).reset_index()\\\n",
    "    .merge(cid, on='customer_id', how='right')"
   ]
  },
  {
   "cell_type": "code",
   "execution_count": 26,
   "id": "2eab00cf",
   "metadata": {},
   "outputs": [
    {
     "data": {
      "text/plain": [
       "48150"
      ]
     },
     "execution_count": 26,
     "metadata": {},
     "output_type": "execute_result"
    }
   ],
   "source": [
    "val.article_id.nunique()"
   ]
  },
  {
   "cell_type": "code",
   "execution_count": 27,
   "id": "3383dbcb",
   "metadata": {},
   "outputs": [],
   "source": [
    "# Check the actual 'article_id'-s\n",
    "actual = val.article_id.apply(lambda s: [] if pd.isna(s) else s.split())"
   ]
  },
  {
   "cell_type": "code",
   "execution_count": 28,
   "id": "699fd5e7",
   "metadata": {},
   "outputs": [
    {
     "data": {
      "text/plain": [
       "(pandas.core.series.Series, (1371980,))"
      ]
     },
     "execution_count": 28,
     "metadata": {},
     "output_type": "execute_result"
    }
   ],
   "source": [
    "type(actual), actual.shape"
   ]
  },
  {
   "cell_type": "code",
   "execution_count": 29,
   "id": "2a05d641",
   "metadata": {},
   "outputs": [],
   "source": [
    "last_date = df.loc[df.week_count < val_week].t_dat.max()"
   ]
  },
  {
   "cell_type": "code",
   "execution_count": 30,
   "id": "44feedd4",
   "metadata": {},
   "outputs": [
    {
     "data": {
      "text/plain": [
       "Timestamp('2020-09-16 00:00:00')"
      ]
     },
     "execution_count": 30,
     "metadata": {},
     "output_type": "execute_result"
    }
   ],
   "source": [
    "last_date "
   ]
  },
  {
   "attachments": {},
   "cell_type": "markdown",
   "id": "6a6545b0",
   "metadata": {},
   "source": [
    "### 2.2. Common functions"
   ]
  },
  {
   "cell_type": "code",
   "execution_count": 31,
   "id": "83674be5",
   "metadata": {},
   "outputs": [],
   "source": [
    "def apk(actual, predicted, k=12):\n",
    "    '''It calculates the Average Precision at k for a given list of actual and predicted values \n",
    "    upon fulfillment of conditions.\n",
    "    Input : \n",
    "        - 'actual' list of actual values, where each element corresponds to an actual value that is available.  \n",
    "        - 'predicted' list of predicted values, where each element corresponds to a predicted value.\n",
    "        - 'k' int that specifies the maximum number of results to consider when calculating the accuracy.\n",
    "    Return:\n",
    "        - the average accuracy, which is obtained as the sum of the accuracies of all correctly predicted items \n",
    "        divided by the minimum between the count of 'actual'-s and 'k'.  \n",
    "    '''\n",
    "    if len(predicted) > k:\n",
    "        predicted = predicted[:k]\n",
    "    score, nhits = 0.0, 0.0\n",
    "    for i, p in enumerate(predicted):\n",
    "        if p in actual and p not in predicted[:i]:\n",
    "            nhits += 1.0\n",
    "            score += nhits / (i + 1.0)\n",
    "    if not actual:\n",
    "        return 0.0\n",
    "    return score / min(len(actual), k)\n",
    "\n",
    "def mapk(actual, predicted, k=12, return_apks=False):\n",
    "    '''The function is used to calculate the average precision of predictions for a set of data. \n",
    "       It uses the subfunction 'apk' (average precision at k) to calculate the precision for each element of the list.\n",
    "    Input : \n",
    "        - 'actual'  list\n",
    "        - 'predicted' list (assuming that the two lists have the same number of elements).\n",
    "    Return:\n",
    "        - the average precision for all elements.\n",
    "        - If return_apks is True, the function returns a list of precisions for each element. \n",
    "                If False, returns the average precision for all elements.\n",
    "    '''\n",
    "    assert len(actual) == len(predicted)\n",
    "    apks = [apk(ac, pr, k) for ac, pr in zip(actual, predicted) if 0 < len(ac)]\n",
    "    if return_apks:\n",
    "        return apks\n",
    "    return np.mean(apks)\n",
    "\n",
    "def validation(actual, predicted, grouping, score=0, index=-1, ignore=False, figsize=(12, 6)):\n",
    "    '''This function is used to evaluate a model's predictions on specific groups of data (eg, product categories, regions, etc.) \n",
    "        By calculating the arithmetic mean of the Average Precision at 'k' (MAP@k) metric for each group and for all data. \n",
    "        At the end the function displays a histogram of the MAP@k values, calculates and stores the MAP@k values ​​for each group and for all data in the DataFrame \"score\".\n",
    "        Input :\n",
    "            - 'actual', 'predicted' : list of list \n",
    "            - 'grouping' of the data \"grouping\"\n",
    "            -  'score'  : DataFrame  to store the scores and some other parameters.  \n",
    "        Return:\n",
    "            - 'score' DataFrame.\n",
    "    '''\n",
    "    # actual, predicted : list of lists\n",
    "    # group : pandas Series\n",
    "    # score : pandas DataFrame\n",
    "    if ignore: \n",
    "        return\n",
    "    ap12 = mapk(actual, predicted, return_apks=True)\n",
    "    map12 = round(np.mean(ap12), 6)\n",
    "    if isinstance(score, int): \n",
    "        score = pd.DataFrame({g:[] for g in sorted(grouping.unique().tolist())})\n",
    "    if index == -1 : \n",
    "        index = score.shape[0]\n",
    "    score.loc[index, \"All\"] = map12\n",
    "    \n",
    "    plt.figure(figsize=figsize)\n",
    "    plt.subplot(1, 2, 1); \n",
    "    sns.histplot(data=ap12, log_scale=(0, 10), bins=20, color= 'orange'); \n",
    "    plt.title(f\"MAP@12 : {map12}\")\n",
    "    for g in grouping.unique():\n",
    "        map12 = round(mapk(actual[grouping == g], predicted[grouping == g]), 6)\n",
    "        score.loc[index, g] = map12\n",
    "    plt.subplot(122) \n",
    "    score[[g for g in grouping.unique()[::-1]] + ['All']].loc[index].plot.barh(); \n",
    "    plt.title(f\"MAP@12 of Groups\")\n",
    "    vc = pd.Series(predicted).apply(len).value_counts()\n",
    "    score.loc[index, \"Fill\"] = round(1 - sum(vc[k] * (12 - k) / 12 for k in (set(range(12)) & set(vc.index))) / len(actual), 3) * 100\n",
    "    display(score)\n",
    "    return score"
   ]
  },
  {
   "attachments": {},
   "cell_type": "markdown",
   "id": "318027ad",
   "metadata": {
    "papermill": {
     "duration": 0.014431,
     "end_time": "2022-03-25T19:24:12.188830",
     "exception": false,
     "start_time": "2022-03-25T19:24:12.174399",
     "status": "completed"
    },
    "tags": []
   },
   "source": [
    "### 2.3. Last Purchased Items"
   ]
  },
  {
   "cell_type": "code",
   "execution_count": 32,
   "id": "94dda66a",
   "metadata": {
    "execution": {
     "iopub.execute_input": "2022-03-25T19:24:12.227989Z",
     "iopub.status.busy": "2022-03-25T19:24:12.227366Z",
     "iopub.status.idle": "2022-03-25T19:24:58.023204Z",
     "shell.execute_reply": "2022-03-25T19:24:58.022688Z",
     "shell.execute_reply.started": "2022-03-25T19:09:14.289935Z"
    },
    "papermill": {
     "duration": 45.818284,
     "end_time": "2022-03-25T19:24:58.023358",
     "exception": false,
     "start_time": "2022-03-25T19:24:12.205074",
     "status": "completed"
    },
    "tags": []
   },
   "outputs": [
    {
     "data": {
      "text/html": [
       "<div>\n",
       "<style scoped>\n",
       "    .dataframe tbody tr th:only-of-type {\n",
       "        vertical-align: middle;\n",
       "    }\n",
       "\n",
       "    .dataframe tbody tr th {\n",
       "        vertical-align: top;\n",
       "    }\n",
       "\n",
       "    .dataframe thead th {\n",
       "        text-align: right;\n",
       "    }\n",
       "</style>\n",
       "<table border=\"1\" class=\"dataframe\">\n",
       "  <thead>\n",
       "    <tr style=\"text-align: right;\">\n",
       "      <th></th>\n",
       "      <th>1.0</th>\n",
       "      <th>2.0</th>\n",
       "      <th>All</th>\n",
       "      <th>Fill</th>\n",
       "    </tr>\n",
       "  </thead>\n",
       "  <tbody>\n",
       "    <tr>\n",
       "      <th>Last Purchase</th>\n",
       "      <td>0.013407</td>\n",
       "      <td>0.025365</td>\n",
       "      <td>0.021444</td>\n",
       "      <td>28.7</td>\n",
       "    </tr>\n",
       "  </tbody>\n",
       "</table>\n",
       "</div>"
      ],
      "text/plain": [
       "                    1.0       2.0       All  Fill\n",
       "Last Purchase  0.013407  0.025365  0.021444  28.7"
      ]
     },
     "metadata": {},
     "output_type": "display_data"
    },
    {
     "data": {
      "image/png": "[encoded data removed]",
      "text/plain": [
       "<Figure size 1200x600 with 2 Axes>"
      ]
     },
     "metadata": {},
     "output_type": "display_data"
    }
   ],
   "source": [
    "init_date = last_date - dt.timedelta(days=9999)\n",
    "# filter data for the priod  \n",
    "train = df.loc[(df.t_dat >= init_date) & (df.t_dat <= last_date)].copy()\n",
    "# inserting of new columns:\n",
    "# ['l_dat'] -> last date of customers purchase. \n",
    "# ['d_dat'] -> days between last purchase of customer and last_date.\n",
    "train = train.merge(train.groupby('customer_id').t_dat.max().reset_index().rename(columns={'t_dat':'l_dat'}),\n",
    "                   on = 'customer_id', how='left')\n",
    "\n",
    "train['d_dat'] = (train.l_dat - train.t_dat).dt.days\n",
    "\n",
    "# filter so that gets only rows where 'd_dat'< 14 and sorting according to 't_dat' \n",
    "# collecting only rows with unique values (drop_duplicates) in columns['customer_id', 'article_id'].\n",
    "train = train.loc[train.d_dat < 14].sort_values(['t_dat'], ascending=False).drop_duplicates(['customer_id', 'article_id'])\n",
    "\n",
    "# sub['last_purchase'] save last purchase(s) of each customer as string, using 'iter_to_str'\n",
    "sub['last_purchase'] = train.groupby('customer_id')\\\n",
    "    .article_id.apply(iter_to_str).reset_index()\\\n",
    "    .merge(cid, on='customer_id', how='right').article_id.fillna('')\n",
    "\n",
    "# In new DataFrame 'predicted' are saved all values from column sub['last_purchase'] before that they are splited.\n",
    "predicted = sub['last_purchase'].apply(lambda s: [] if pd.isna(s) else s.split())\n",
    "\n",
    "# 'score' saves results of 'validation' function.\n",
    "# It compares model-predicted and actual purchases for each customer and returns the average accuracy (MAP@12) of the model.\n",
    "score = validation(actual, predicted, grouping, index='Last Purchase', ignore=(val_week == 105))"
   ]
  },
  {
   "attachments": {},
   "cell_type": "markdown",
   "id": "379a2bfa",
   "metadata": {
    "papermill": {
     "duration": 0.015977,
     "end_time": "2022-03-25T19:24:58.055617",
     "exception": false,
     "start_time": "2022-03-25T19:24:58.039640",
     "status": "completed"
    },
    "tags": []
   },
   "source": [
    "### 2.4.Other Colors of Purchased Item"
   ]
  },
  {
   "cell_type": "code",
   "execution_count": 33,
   "id": "fd69fe9b",
   "metadata": {
    "execution": {
     "iopub.execute_input": "2022-03-25T19:24:58.098836Z",
     "iopub.status.busy": "2022-03-25T19:24:58.098142Z",
     "iopub.status.idle": "2022-03-25T19:25:22.581368Z",
     "shell.execute_reply": "2022-03-25T19:25:22.581961Z",
     "shell.execute_reply.started": "2022-03-25T19:10:14.587389Z"
    },
    "papermill": {
     "duration": 24.509818,
     "end_time": "2022-03-25T19:25:22.582397",
     "exception": false,
     "start_time": "2022-03-25T19:24:58.072579",
     "status": "completed"
    },
    "tags": []
   },
   "outputs": [
    {
     "data": {
      "text/html": [
       "<div>\n",
       "<style scoped>\n",
       "    .dataframe tbody tr th:only-of-type {\n",
       "        vertical-align: middle;\n",
       "    }\n",
       "\n",
       "    .dataframe tbody tr th {\n",
       "        vertical-align: top;\n",
       "    }\n",
       "\n",
       "    .dataframe thead th {\n",
       "        text-align: right;\n",
       "    }\n",
       "</style>\n",
       "<table border=\"1\" class=\"dataframe\">\n",
       "  <thead>\n",
       "    <tr style=\"text-align: right;\">\n",
       "      <th></th>\n",
       "      <th>1.0</th>\n",
       "      <th>2.0</th>\n",
       "      <th>All</th>\n",
       "      <th>Fill</th>\n",
       "    </tr>\n",
       "  </thead>\n",
       "  <tbody>\n",
       "    <tr>\n",
       "      <th>Last Purchase</th>\n",
       "      <td>0.013407</td>\n",
       "      <td>0.025365</td>\n",
       "      <td>0.021444</td>\n",
       "      <td>28.7</td>\n",
       "    </tr>\n",
       "    <tr>\n",
       "      <th>Other Colors</th>\n",
       "      <td>0.005823</td>\n",
       "      <td>0.008405</td>\n",
       "      <td>0.007558</td>\n",
       "      <td>15.3</td>\n",
       "    </tr>\n",
       "  </tbody>\n",
       "</table>\n",
       "</div>"
      ],
      "text/plain": [
       "                    1.0       2.0       All  Fill\n",
       "Last Purchase  0.013407  0.025365  0.021444  28.7\n",
       "Other Colors   0.005823  0.008405  0.007558  15.3"
      ]
     },
     "metadata": {},
     "output_type": "display_data"
    },
    {
     "data": {
      "image/png": "[encoded data removed]",
      "text/plain": [
       "<Figure size 1200x600 with 2 Axes>"
      ]
     },
     "metadata": {},
     "output_type": "display_data"
    }
   ],
   "source": [
    "init_date = last_date - dt.timedelta(days=6)\n",
    "train_1 = df.loc[(df.t_dat >= init_date) & (df.t_dat <= last_date)].copy()\\\n",
    "    .groupby(['article_id']).t_dat.count().reset_index()\n",
    "adf = pd.read_csv(r'data\\articles.csv\\articles.csv')\n",
    "adf = adf.merge(train_1, on='article_id', how='left').rename(columns={'t_dat':'ct'})\\\n",
    "    .sort_values('ct', ascending=False).query('ct > 0')\n",
    "\n",
    "map_to_col = defaultdict(list)\n",
    "for aid in adf.article_id.tolist():\n",
    "    map_to_col[aid] = list(filter(lambda x: x != aid, adf[adf.product_code == aid // 1000].article_id.tolist()))[:1]\n",
    "\n",
    "def map_to_variation(s):\n",
    "    f = lambda item: iter_to_str(map_to_col[int(item)])\n",
    "    return ' '.join(map(f, s.split()))\n",
    "sub['other_colors'] = sub['last_purchase'].fillna('').apply(map_to_variation)\n",
    "\n",
    "predicted = sub['other_colors'].apply(lambda s: [] if pd.isna(s) else s.split())\n",
    "score = validation(actual, predicted, grouping, score, index='Other Colors', ignore=(val_week == 105))\n",
    "\n",
    "# before\n",
    "#\t            1.0\t           2.0\t    All\t        Fill\n",
    "# Last Purchase\t0.901186\t0.847087\t0.865238\t28.7\n",
    "# Other Colors\t0.023821\t0.038847\t0.033806\t15.0\n"
   ]
  },
  {
   "attachments": {},
   "cell_type": "markdown",
   "id": "b44e9414",
   "metadata": {
    "papermill": {
     "duration": 0.017352,
     "end_time": "2022-03-25T19:25:22.619266",
     "exception": false,
     "start_time": "2022-03-25T19:25:22.601914",
     "status": "completed"
    },
    "tags": []
   },
   "source": [
    "### 2.5.Popular Items for Each Group"
   ]
  },
  {
   "cell_type": "code",
   "execution_count": 34,
   "id": "708986ff",
   "metadata": {
    "execution": {
     "iopub.execute_input": "2022-03-25T19:25:22.665467Z",
     "iopub.status.busy": "2022-03-25T19:25:22.663836Z",
     "iopub.status.idle": "2022-03-25T19:25:30.703828Z",
     "shell.execute_reply": "2022-03-25T19:25:30.703163Z",
     "shell.execute_reply.started": "2022-03-25T19:10:47.575132Z"
    },
    "papermill": {
     "duration": 8.067255,
     "end_time": "2022-03-25T19:25:30.703969",
     "exception": false,
     "start_time": "2022-03-25T19:25:22.636714",
     "status": "completed"
    },
    "tags": []
   },
   "outputs": [
    {
     "data": {
      "text/html": [
       "<div>\n",
       "<style scoped>\n",
       "    .dataframe tbody tr th:only-of-type {\n",
       "        vertical-align: middle;\n",
       "    }\n",
       "\n",
       "    .dataframe tbody tr th {\n",
       "        vertical-align: top;\n",
       "    }\n",
       "\n",
       "    .dataframe thead th {\n",
       "        text-align: right;\n",
       "    }\n",
       "</style>\n",
       "<table border=\"1\" class=\"dataframe\">\n",
       "  <thead>\n",
       "    <tr style=\"text-align: right;\">\n",
       "      <th></th>\n",
       "      <th>1.0</th>\n",
       "      <th>2.0</th>\n",
       "      <th>All</th>\n",
       "      <th>Fill</th>\n",
       "    </tr>\n",
       "  </thead>\n",
       "  <tbody>\n",
       "    <tr>\n",
       "      <th>Last Purchase</th>\n",
       "      <td>0.013407</td>\n",
       "      <td>0.025365</td>\n",
       "      <td>0.021444</td>\n",
       "      <td>28.7</td>\n",
       "    </tr>\n",
       "    <tr>\n",
       "      <th>Other Colors</th>\n",
       "      <td>0.005823</td>\n",
       "      <td>0.008405</td>\n",
       "      <td>0.007558</td>\n",
       "      <td>15.3</td>\n",
       "    </tr>\n",
       "    <tr>\n",
       "      <th>Popular Items</th>\n",
       "      <td>0.008888</td>\n",
       "      <td>0.008480</td>\n",
       "      <td>0.008613</td>\n",
       "      <td>99.3</td>\n",
       "    </tr>\n",
       "  </tbody>\n",
       "</table>\n",
       "</div>"
      ],
      "text/plain": [
       "                    1.0       2.0       All  Fill\n",
       "Last Purchase  0.013407  0.025365  0.021444  28.7\n",
       "Other Colors   0.005823  0.008405  0.007558  15.3\n",
       "Popular Items  0.008888  0.008480  0.008613  99.3"
      ]
     },
     "metadata": {},
     "output_type": "display_data"
    },
    {
     "data": {
      "image/png": "[encoded data removed]",
      "text/plain": [
       "<Figure size 1200x600 with 2 Axes>"
      ]
     },
     "metadata": {},
     "output_type": "display_data"
    }
   ],
   "source": [
    "# 4 days are half week and more precise for this purpose\n",
    "init_date = last_date - dt.timedelta(days=4)\n",
    "# grouping can be changed\n",
    "group_df = pd.concat([cid, group.sales_channel_id], axis=1) \n",
    "group_df.columns = ['customer_id', 'group']\n",
    "train_2 = df.loc[(df.t_dat >= init_date) & (df.t_dat <= last_date)].copy()\\\n",
    "    .merge(group_df, on='customer_id', how='left')\\\n",
    "    .groupby(['group', 'article_id']).t_dat.count().reset_index()\n",
    "items = defaultdict(str)\n",
    "for g in train_2.group.unique():\n",
    "    items[g] = iter_to_str(train_2.loc[train_2.group == g].sort_values('t_dat', ascending=False).article_id.tolist()[:12])\n",
    "\n",
    "sub['popular_items'] = group_df.group.map(items)\n",
    "\n",
    "predicted = sub['popular_items'].apply(lambda s: [] if pd.isna(s) else s.split())\n",
    "score = validation(actual, predicted, grouping, score, index='Popular Items', ignore=(val_week == 105))"
   ]
  },
  {
   "attachments": {},
   "cell_type": "markdown",
   "id": "869beecb",
   "metadata": {},
   "source": [
    "## 3. Final prediction"
   ]
  },
  {
   "attachments": {},
   "cell_type": "markdown",
   "id": "800f489d",
   "metadata": {
    "papermill": {
     "duration": 0.019986,
     "end_time": "2022-03-25T19:25:30.743701",
     "exception": false,
     "start_time": "2022-03-25T19:25:30.723715",
     "status": "completed"
    },
    "tags": []
   },
   "source": [
    "Now we do _**mixed Predictions**_ **(Blending)** in order to achive better results on the desired dataset.\n",
    "\n",
    "Here we'll use previouse results saved in *sub['last_purchase', 'other_colors', 'popular_items']*."
   ]
  },
  {
   "cell_type": "code",
   "execution_count": 35,
   "id": "73fe33eb",
   "metadata": {},
   "outputs": [],
   "source": [
    "def blend(dt, w=[], k=12):\n",
    "    ''' it performs blending of the strings in 'dt' list, giving greater weight to that appears earlier in the list. \n",
    "        This is done by multiplying each prediction (element of dt) by the corresponding weight from the list 'w'.\n",
    "        Aftre that the strings are sorted in descending order of their weight (higher weight means earlier occurrence in the list).\n",
    "    Input  :\n",
    "        - 'dt' : list of strings|Any\n",
    "        - 'w'  : empty list\n",
    "        - 'k'  : int\n",
    "    Return:    \n",
    "        - the first 'k' strings are returned as one common text string.\n",
    "    '''\n",
    "    if len(w) == 0:\n",
    "        w = [1] * (len(dt))\n",
    "    preds = []\n",
    "    for i in range(len(w)):\n",
    "        preds.append(dt[i].split())\n",
    "    res = {}\n",
    "    for i in range(len(preds)):\n",
    "        if w[i] < 0:\n",
    "            continue\n",
    "        for n, v in enumerate(preds[i]):\n",
    "            if v in res:\n",
    "                res[v] += (w[i] / (n + 1))\n",
    "            else:\n",
    "                res[v] = (w[i] / (n + 1))    \n",
    "    res = list(dict(sorted(res.items(), key=lambda item: -item[1])).keys())\n",
    "    return ' '.join(res[:k])\n",
    "\n",
    "def prune(pred, ok_set, k=12):\n",
    "    '''it  \"trims\" the predicted elements that are not in the 'ok_set' and are in 'post'\n",
    "       it returns a new string that contains the first 'k' elements that are in the 'ok_set'\n",
    "    Input : \n",
    "        - 'pred'  : string|Any\n",
    "        - 'ok_set': set|Any\n",
    "        - 'k'     :  int\n",
    "    Return:\n",
    "        - string of the firts 'k' elements\n",
    "    '''\n",
    "    pred = pred.split()\n",
    "    post = []\n",
    "    for item in pred:\n",
    "        if int(item) in ok_set and not item in post:\n",
    "            post.append(item)\n",
    "    return \" \".join(post[:k])"
   ]
  },
  {
   "cell_type": "code",
   "execution_count": 36,
   "id": "420914bb",
   "metadata": {
    "execution": {
     "iopub.execute_input": "2022-03-25T19:25:30.785947Z",
     "iopub.status.busy": "2022-03-25T19:25:30.785328Z",
     "iopub.status.idle": "2022-03-25T19:25:31.102430Z",
     "shell.execute_reply": "2022-03-25T19:25:31.101676Z",
     "shell.execute_reply.started": "2022-03-25T19:10:59.466961Z"
    },
    "papermill": {
     "duration": 0.339957,
     "end_time": "2022-03-25T19:25:31.102656",
     "exception": false,
     "start_time": "2022-03-25T19:25:30.762699",
     "status": "completed"
    },
    "tags": []
   },
   "outputs": [],
   "source": [
    "init_date = last_date - dt.timedelta(days=11)\n",
    "sold_set = set(df.loc[(df.t_dat >= init_date) & (df.t_dat <= last_date)].article_id.tolist())"
   ]
  },
  {
   "cell_type": "code",
   "execution_count": 37,
   "id": "1a03e019",
   "metadata": {},
   "outputs": [
    {
     "data": {
      "text/html": [
       "<div>\n",
       "<style scoped>\n",
       "    .dataframe tbody tr th:only-of-type {\n",
       "        vertical-align: middle;\n",
       "    }\n",
       "\n",
       "    .dataframe tbody tr th {\n",
       "        vertical-align: top;\n",
       "    }\n",
       "\n",
       "    .dataframe thead th {\n",
       "        text-align: right;\n",
       "    }\n",
       "</style>\n",
       "<table border=\"1\" class=\"dataframe\">\n",
       "  <thead>\n",
       "    <tr style=\"text-align: right;\">\n",
       "      <th></th>\n",
       "      <th>1.0</th>\n",
       "      <th>2.0</th>\n",
       "      <th>All</th>\n",
       "      <th>Fill</th>\n",
       "    </tr>\n",
       "  </thead>\n",
       "  <tbody>\n",
       "    <tr>\n",
       "      <th>Last Purchase</th>\n",
       "      <td>0.013407</td>\n",
       "      <td>0.025365</td>\n",
       "      <td>0.021444</td>\n",
       "      <td>28.7</td>\n",
       "    </tr>\n",
       "    <tr>\n",
       "      <th>Other Colors</th>\n",
       "      <td>0.005823</td>\n",
       "      <td>0.008405</td>\n",
       "      <td>0.007558</td>\n",
       "      <td>15.3</td>\n",
       "    </tr>\n",
       "    <tr>\n",
       "      <th>Popular Items</th>\n",
       "      <td>0.008888</td>\n",
       "      <td>0.008480</td>\n",
       "      <td>0.008613</td>\n",
       "      <td>99.3</td>\n",
       "    </tr>\n",
       "    <tr>\n",
       "      <th>Prediction</th>\n",
       "      <td>0.018691</td>\n",
       "      <td>0.030582</td>\n",
       "      <td>0.026683</td>\n",
       "      <td>99.3</td>\n",
       "    </tr>\n",
       "  </tbody>\n",
       "</table>\n",
       "</div>"
      ],
      "text/plain": [
       "                    1.0       2.0       All  Fill\n",
       "Last Purchase  0.013407  0.025365  0.021444  28.7\n",
       "Other Colors   0.005823  0.008405  0.007558  15.3\n",
       "Popular Items  0.008888  0.008480  0.008613  99.3\n",
       "Prediction     0.018691  0.030582  0.026683  99.3"
      ]
     },
     "metadata": {},
     "output_type": "display_data"
    },
    {
     "data": {
      "image/png": "[encoded data removed]",
      "text/plain": [
       "<Figure size 1200x600 with 2 Axes>"
      ]
     },
     "metadata": {},
     "output_type": "display_data"
    }
   ],
   "source": [
    "sub['prediction'] = sub[['last_purchase', 'other_colors', 'popular_items']]\\\n",
    "    .apply(blend, w=[100, 10, 1], axis=1, k=32).apply(prune, ok_set=sold_set)\n",
    "predicted = sub.prediction.apply(lambda s: [] if pd.isna(s) else s.split())\n",
    "score = validation(actual, predicted, grouping, score, index='Prediction', ignore=(val_week == 105))\n",
    "\n",
    "# results before with w = [100, 10]\n",
    "# \t            1.0\t        2.0\t        All\t        Fill\n",
    "# Last Purchase\t0.013407\t0.025365\t0.021444\t28.7\n",
    "# Other Colors\t0.005823\t0.008405\t0.007558\t15.3\n",
    "# Popular Items\t0.008888\t0.008480\t0.008613\t99.3\n",
    "# Prediction\t0.015179\t0.027625\t0.023544\t30.6"
   ]
  },
  {
   "cell_type": "code",
   "execution_count": 38,
   "id": "eb000dcd",
   "metadata": {
    "execution": {
     "iopub.execute_input": "2022-03-25T19:26:25.609664Z",
     "iopub.status.busy": "2022-03-25T19:26:25.609012Z",
     "iopub.status.idle": "2022-03-25T19:26:25.810238Z",
     "shell.execute_reply": "2022-03-25T19:26:25.809393Z",
     "shell.execute_reply.started": "2022-03-25T19:12:16.97463Z"
    },
    "papermill": {
     "duration": 0.224791,
     "end_time": "2022-03-25T19:26:25.810460",
     "exception": false,
     "start_time": "2022-03-25T19:26:25.585669",
     "status": "completed"
    },
    "tags": []
   },
   "outputs": [
    {
     "data": {
      "image/png": "[encoded data removed]",
      "text/plain": [
       "<Figure size 640x480 with 1 Axes>"
      ]
     },
     "metadata": {},
     "output_type": "display_data"
    }
   ],
   "source": [
    "sns.barplot(data=score, x='All', y=score.index, palette=['#4286f4', '#ff6347', '#ffd700', '#9989e9'])\n",
    "plt.title(\"Final prediction\")\n",
    "plt.show()"
   ]
  },
  {
   "cell_type": "code",
   "execution_count": 39,
   "id": "b27a2614",
   "metadata": {
    "execution": {
     "iopub.execute_input": "2022-03-25T19:26:25.860849Z",
     "iopub.status.busy": "2022-03-25T19:26:25.860127Z",
     "iopub.status.idle": "2022-03-25T19:26:25.863042Z",
     "shell.execute_reply": "2022-03-25T19:26:25.862463Z",
     "shell.execute_reply.started": "2022-03-25T19:12:17.176154Z"
    },
    "papermill": {
     "duration": 0.029555,
     "end_time": "2022-03-25T19:26:25.863177",
     "exception": false,
     "start_time": "2022-03-25T19:26:25.833622",
     "status": "completed"
    },
    "tags": []
   },
   "outputs": [],
   "source": [
    "# if val_week == 105: sub[['customer_id', 'prediction']].to_csv('submission.csv', index=False)"
   ]
  },
  {
   "attachments": {},
   "cell_type": "markdown",
   "id": "5c3e2dca",
   "metadata": {},
   "source": [
    "## 4. Conclusion\n",
    "\n",
    "The final results show that to do prediction on customers who are buying direct on-place is difficult.\n",
    "\n",
    "Avarage precision per diffrent groups is:\n",
    "\n",
    "+ 0.0187 for on-line sales \n",
    "+ 0.0306 for on-place sales\n",
    "\n",
    "\n",
    "\n",
    "There is a vast deversity how to make prediction about a future behavior of customers.\n",
    "\n",
    "Here I've choosen a simple aproach demonstaring only one possibility.\n",
    "\n",
    "According to my oppinion the results are quite good and for sure there are better ways to solve the task.\n",
    "\n",
    "Because it's a private task with special purpose I didn't make yet any submission to Kaggle competition.\n"
   ]
  },
  {
   "attachments": {},
   "cell_type": "markdown",
   "id": "31a55da9",
   "metadata": {},
   "source": [
    "## 5. References\n",
    "\n",
    "The order of the sources is alphabetical.\n",
    "\n",
    "- https://chat.openai.com/\n",
    "- https://matplotlib.org/stable/api/_as_gen/matplotlib.pyplot.barh.html#matplotlib.pyplot.barh\n",
    "- https://seaborn.pydata.org/\n",
    "- https://www.kaggle.com/competitions/h-and-m-personalized-fashion-recommendations/overview\n"
   ]
  },
  {
   "attachments": {},
   "cell_type": "markdown",
   "id": "5016ca63",
   "metadata": {},
   "source": [
    "Thank you for your attention!\n",
    "\n",
    ":)"
   ]
  }
 ],
 "metadata": {
  "kernelspec": {
   "display_name": "Python 3",
   "language": "python",
   "name": "python3"
  },
  "language_info": {
   "codemirror_mode": {
    "name": "ipython",
    "version": 3
   },
   "file_extension": ".py",
   "mimetype": "text/x-python",
   "name": "python",
   "nbconvert_exporter": "python",
   "pygments_lexer": "ipython3",
   "version": "3.9.7"
  },
  "papermill": {
   "default_parameters": {},
   "duration": 167.040157,
   "end_time": "2022-03-25T19:26:27.902385",
   "environment_variables": {},
   "exception": null,
   "input_path": "__notebook__.ipynb",
   "output_path": "__notebook__.ipynb",
   "parameters": {},
   "start_time": "2022-03-25T19:23:40.862228",
   "version": "2.3.3"
  }
 },
 "nbformat": 4,
 "nbformat_minor": 5
}
